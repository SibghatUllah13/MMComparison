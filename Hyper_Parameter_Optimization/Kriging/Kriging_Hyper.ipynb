{
 "cells": [
  {
   "cell_type": "code",
   "execution_count": null,
   "metadata": {},
   "outputs": [],
   "source": [
    "import Utils\n",
    "import pyDOE\n",
    "import pandas as pd\n",
    "import numpy as np\n",
    "from sklearn.gaussian_process import GaussianProcessRegressor\n",
    "from sklearn.gaussian_process.kernels import RBF, ConstantKernel as C\n",
    "from sklearn.gaussian_process.kernels import DotProduct\n",
    "from sklearn.preprocessing import MinMaxScaler"
   ]
  },
  {
   "cell_type": "markdown",
   "metadata": {},
   "source": [
    "## Helper Functions"
   ]
  },
  {
   "cell_type": "code",
   "execution_count": 2,
   "metadata": {},
   "outputs": [],
   "source": [
    "''' Kriging for Robust Regularization'''\n",
    "def kriging_minimax(train_data,test_data,Hyper):\n",
    "    initial,lower,upper,optim = Hyper\n",
    "    kernel =  RBF(initial, (lower, upper))\n",
    "    scaler = MinMaxScaler().fit(np.r_[train_data.iloc[:,:10].values, test_data.values])\n",
    "    gpr = GaussianProcessRegressor(kernel=kernel,n_restarts_optimizer=optim,random_state=0,\n",
    "                                   normalize_y=True ).fit(scaler.transform(train_data.iloc[:,:10]), train_data.iloc[:,11])\n",
    "    pred = gpr.predict(scaler.transform(test_data))\n",
    "    return gpr,pred\n",
    "\n",
    "''' Kriging for Robust Regularization'''\n",
    "def kriging_composite(train_data,test_data,Hyper):\n",
    "    initial,lower,upper,optim = Hyper\n",
    "    kernel =  RBF(initial, (lower, upper))\n",
    "    scaler = MinMaxScaler().fit(np.r_[train_data.iloc[:,:10].values, test_data.values])\n",
    "    gpr = GaussianProcessRegressor(kernel=kernel,n_restarts_optimizer=optim,random_state=0,\n",
    "                                   normalize_y=True ).fit(scaler.transform(train_data.iloc[:,:10]), train_data.iloc[:,-1])\n",
    "    pred = gpr.predict(scaler.transform(test_data))\n",
    "    return gpr,pred\n",
    "\n",
    "''' Latin HyperCube Sampling Design of Experiment for Hyper_Parameters Optimization'''\n",
    "def DOE_Hyper():\n",
    "    lhd = pyDOE.lhs(n=4, samples=1000, criterion='m')\n",
    "    X1, X2 , X3, X4 = lhd[:,0], lhd[:,1] , lhd[:,2] , lhd[:,3] \n",
    "    X1 = Utils.linearscaletransform(X1,range_out=(5,1e2))\n",
    "    X2 = Utils.linearscaletransform(X2,range_out=(1e-2 , 100))\n",
    "    X3 = Utils.linearscaletransform(X3,range_out=(1e2 , 1e5))\n",
    "    X4 = Utils.linearscaletransform(X4,range_out=(5 , 100))\n",
    "    Hyper_Parameters = pd.DataFrame()\n",
    "    Hyper_Parameters['initial'] = pd.Series(X1)\n",
    "    Hyper_Parameters['lower_bound'] = pd.Series(X2)\n",
    "    Hyper_Parameters['upper_bound'] = pd.Series(X3)\n",
    "    Hyper_Parameters['n_restart_optim'] = pd.Series(X4)\n",
    "    return Hyper_Parameters"
   ]
  },
  {
   "cell_type": "markdown",
   "metadata": {},
   "source": [
    "## Kriging"
   ]
  },
  {
   "cell_type": "code",
   "execution_count": 4,
   "metadata": {},
   "outputs": [
    {
     "name": "stdout",
     "output_type": "stream",
     "text": [
      "50\n",
      "100\n",
      "150\n",
      "200\n",
      "250\n",
      "300\n",
      "350\n",
      "400\n",
      "450\n",
      "500\n"
     ]
    }
   ],
   "source": [
    "X = [50,100,150,200,250,300,350,400,450,500]\n",
    "Kriging_minimax = np.zeros([len(X),4])\n",
    "Kriging_composite = np.zeros([len(X),4])\n",
    "for k in range(len(X)):\n",
    "    print (X[k])\n",
    "    train = pd.read_csv(sys.path[1][:-7]+str('Training_Data_Sets\\\\'+str(X[k])+'Samples.csv')).iloc[:,1:]\n",
    "    test = pd.read_csv(sys.path[1][:-7]+str('Test_Data_Sets\\\\750Samples.csv')).iloc[:,1:]\n",
    "    true_minimax = np.array(test.True_Minimax)\n",
    "    true_composite = np.array(test.True_Composite)\n",
    "    Hyper_Parameters = DOE_Hyper()\n",
    "    mean_abs_error_minimax = np.zeros(Hyper_Parameters.shape[0])\n",
    "    mean_abs_error_composite = np.zeros(Hyper_Parameters.shape[0])\n",
    "    for i in range(Hyper_Parameters.shape[0]):\n",
    "        temp = np.array(Hyper_Parameters.iloc[i,:])\n",
    "        model_minimax,pred_k_m = kriging_minimax(train,test.iloc[:,:10],np.ceil(temp).astype(int))\n",
    "        model_composite,pred_k_c = kriging_composite(train,test.iloc[:,:10],np.ceil(temp).astype(int))\n",
    "        mean_abs_error_minimax[i] = np.mean((abs(true_minimax-pred_k_m) / abs(true_minimax) ) * 100)\n",
    "        mean_abs_error_composite[i] = np.mean((abs( true_composite-pred_k_c) / abs(true_composite) ) * 100)\n",
    "    Hyper_Parameters ['Mean_Error_Minimax'] = pd.Series(mean_abs_error_minimax)\n",
    "    Hyper_Parameters ['Mean_Error_Composite'] = pd.Series(mean_abs_error_composite)\n",
    "    Kriging_minimax [k,:] = np.array(Hyper_Parameters.iloc[Hyper_Parameters.Mean_Error_Minimax.values.argmin(),:-2],dtype=int)\n",
    "    Kriging_composite [k,:] = np.array(Hyper_Parameters.iloc[Hyper_Parameters.Mean_Error_Composite.values.argmin(),:-2],dtype=int)"
   ]
  },
  {
   "cell_type": "code",
   "execution_count": 5,
   "metadata": {},
   "outputs": [
    {
     "name": "stdout",
     "output_type": "stream",
     "text": [
      "Best Configuration of Hyper Parameters for Robust Regularization\n"
     ]
    },
    {
     "data": {
      "text/plain": [
       "initial                  74.391425\n",
       "lower_bound              99.582805\n",
       "upper_bound           83935.253260\n",
       "n_restart_optim          93.871892\n",
       "Mean_Error_Minimax        1.798985\n",
       "Name: 17, dtype: float64"
      ]
     },
     "execution_count": 5,
     "metadata": {},
     "output_type": "execute_result"
    }
   ],
   "source": [
    "print ('Best Configuration of Hyper Parameters for Robust Regularization')\n",
    "Hyper_Parameters.iloc[Hyper_Parameters.Mean_Error_Minimax.values.argmin(),:-1]"
   ]
  },
  {
   "cell_type": "code",
   "execution_count": 6,
   "metadata": {},
   "outputs": [
    {
     "name": "stdout",
     "output_type": "stream",
     "text": [
      "Best Configuration of Hyper Parameters for Robust Composition\n"
     ]
    },
    {
     "data": {
      "text/plain": [
       "initial                    10.207793\n",
       "lower_bound                75.021221\n",
       "upper_bound             28334.333835\n",
       "n_restart_optim            45.032448\n",
       "Mean_Error_Composite        0.719782\n",
       "Name: 24, dtype: float64"
      ]
     },
     "execution_count": 6,
     "metadata": {},
     "output_type": "execute_result"
    }
   ],
   "source": [
    "print ('Best Configuration of Hyper Parameters for Robust Composition')\n",
    "Hyper_Parameters.iloc[Hyper_Parameters.Mean_Error_Composite.values.argmin(),[0,1,2,3,5]]"
   ]
  },
  {
   "cell_type": "code",
   "execution_count": 7,
   "metadata": {},
   "outputs": [],
   "source": [
    "Hyper_Parameters.to_csv('Result_Hyper_Params.csv')"
   ]
  },
  {
   "cell_type": "code",
   "execution_count": 8,
   "metadata": {},
   "outputs": [],
   "source": [
    "pd.DataFrame(Kriging_composite).to_csv('composite.csv')\n",
    "pd.DataFrame(Kriging_minimax).to_csv('Minimax.csv')"
   ]
  },
  {
   "cell_type": "code",
   "execution_count": 9,
   "metadata": {},
   "outputs": [],
   "source": [
    "minimax = pd.read_csv('Minimax.csv').iloc[:,1:]\n",
    "composite = pd.read_csv('composite.csv').iloc[:,1:]"
   ]
  },
  {
   "cell_type": "code",
   "execution_count": 10,
   "metadata": {},
   "outputs": [
    {
     "data": {
      "text/plain": [
       "array([[8.0000e+00, 0.0000e+00, 5.1597e+04, 6.4000e+01],\n",
       "       [6.0000e+01, 8.3000e+01, 6.4168e+04, 7.3000e+01],\n",
       "       [8.6000e+01, 9.9000e+01, 5.9640e+04, 6.8000e+01],\n",
       "       [9.8000e+01, 7.4000e+01, 6.3818e+04, 9.6000e+01],\n",
       "       [6.5000e+01, 9.9000e+01, 6.6514e+04, 3.8000e+01],\n",
       "       [9.1000e+01, 8.3000e+01, 5.6558e+04, 3.5000e+01],\n",
       "       [5.6000e+01, 6.5000e+01, 1.7680e+03, 8.0000e+00],\n",
       "       [3.1000e+01, 6.0000e+01, 1.9103e+04, 6.0000e+00],\n",
       "       [4.8000e+01, 9.9000e+01, 9.6540e+03, 4.4000e+01],\n",
       "       [1.0000e+01, 7.5000e+01, 2.8334e+04, 4.5000e+01]])"
      ]
     },
     "execution_count": 10,
     "metadata": {},
     "output_type": "execute_result"
    }
   ],
   "source": [
    "np.array(composite)"
   ]
  },
  {
   "cell_type": "code",
   "execution_count": 11,
   "metadata": {},
   "outputs": [
    {
     "data": {
      "text/plain": [
       "array([[8.0000e+00, 0.0000e+00, 5.1597e+04, 6.4000e+01],\n",
       "       [7.1000e+01, 9.9000e+01, 5.1349e+04, 1.1000e+01],\n",
       "       [8.6000e+01, 9.9000e+01, 5.9640e+04, 6.8000e+01],\n",
       "       [7.5000e+01, 9.6000e+01, 8.1547e+04, 5.6000e+01],\n",
       "       [6.5000e+01, 9.9000e+01, 6.6514e+04, 3.8000e+01],\n",
       "       [3.8000e+01, 9.9000e+01, 9.0573e+04, 6.5000e+01],\n",
       "       [8.0000e+01, 9.9000e+01, 9.3202e+04, 3.2000e+01],\n",
       "       [8.1000e+01, 9.9000e+01, 9.4042e+04, 5.5000e+01],\n",
       "       [4.8000e+01, 9.9000e+01, 9.6540e+03, 4.4000e+01],\n",
       "       [7.4000e+01, 9.9000e+01, 8.3935e+04, 9.3000e+01]])"
      ]
     },
     "execution_count": 11,
     "metadata": {},
     "output_type": "execute_result"
    }
   ],
   "source": [
    "np.array(minimax)"
   ]
  }
 ],
 "metadata": {
  "kernelspec": {
   "display_name": "Python 3",
   "language": "python",
   "name": "python3"
  },
  "language_info": {
   "codemirror_mode": {
    "name": "ipython",
    "version": 3
   },
   "file_extension": ".py",
   "mimetype": "text/x-python",
   "name": "python",
   "nbconvert_exporter": "python",
   "pygments_lexer": "ipython3",
   "version": "3.7.0"
  }
 },
 "nbformat": 4,
 "nbformat_minor": 2
}
