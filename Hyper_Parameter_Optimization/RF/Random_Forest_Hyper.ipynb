{
 "cells": [
  {
   "cell_type": "code",
   "execution_count": 1,
   "metadata": {},
   "outputs": [
    {
     "name": "stderr",
     "output_type": "stream",
     "text": [
      "C:\\Users\\sefi\\AppData\\Local\\Continuum\\anaconda3\\lib\\site-packages\\sklearn\\ensemble\\weight_boosting.py:29: DeprecationWarning: numpy.core.umath_tests is an internal NumPy module and should not be imported. It will be removed in a future NumPy release.\n",
      "  from numpy.core.umath_tests import inner1d\n"
     ]
    }
   ],
   "source": [
    "import sys\n",
    "sys.path.append(\"C:\\\\Users\\\\sefi\\\\Meta-Modelling\\\\Sample Size vs Accuracy\\\\Noise Level 3\\\\Rastrigin10D\\\\\")\n",
    "import Utils\n",
    "import pyDOE\n",
    "import pandas as pd\n",
    "import numpy as np\n",
    "from sklearn import preprocessing\n",
    "from sklearn.ensemble import RandomForestRegressor\n",
    "from sklearn.preprocessing import MinMaxScaler"
   ]
  },
  {
   "cell_type": "markdown",
   "metadata": {},
   "source": [
    "## Helper Functions"
   ]
  },
  {
   "cell_type": "code",
   "execution_count": 2,
   "metadata": {},
   "outputs": [],
   "source": [
    "''' Random Forest Implementation for Minimax Robustness'''\n",
    "def rf_minimax(train_data,test_data,Hyper):\n",
    "    depth, estim = Hyper\n",
    "    scaler = MinMaxScaler().fit(np.r_[train_data.iloc[:,:10].values, test_data.values])\n",
    "    regr = RandomForestRegressor(max_depth=int(depth), random_state=0,n_estimators=int(estim)\n",
    "                                ).fit(scaler.transform(train_data.iloc[:,:10]), train_data.iloc[:,11])\n",
    "    pred = regr.predict(scaler.transform(test_data))\n",
    "    return regr,pred\n",
    "\n",
    "''' Random Forest Implementation for Composite Robustness'''\n",
    "def rf_composite(train_data,test_data,Hyper):\n",
    "    depth, estim = Hyper\n",
    "    scaler = MinMaxScaler().fit(np.r_[train_data.iloc[:,:10].values, test_data.values])\n",
    "    regr = RandomForestRegressor(max_depth=int(depth), random_state=0,n_estimators=int(estim)\n",
    "                                ).fit(scaler.transform(train_data.iloc[:,:10]), train_data.iloc[:,-1])\n",
    "    pred = regr.predict(scaler.transform(test_data))\n",
    "    return regr,pred\n",
    "\n",
    "''' Latin HyperCube Sampling Design of Experiment for Hyper_Parameters Optimization'''\n",
    "def DOE_Hyper():\n",
    "    lhd = pyDOE.lhs(n=2, samples=100, criterion='m')\n",
    "    X1, X2  = lhd[:,0], lhd[:,1] \n",
    "    X1 = Utils.linearscaletransform(X1,range_out=(3,50))\n",
    "    X2 = Utils.linearscaletransform(X2,range_out=(5 , 100))\n",
    "    Hyper_Parameters = pd.DataFrame()\n",
    "    Hyper_Parameters['Max_Depth'] = pd.Series(X1)\n",
    "    Hyper_Parameters['N_Estimators'] = pd.Series(X2)\n",
    "    return Hyper_Parameters"
   ]
  },
  {
   "cell_type": "markdown",
   "metadata": {},
   "source": [
    "## Load Training and Test Data Set initially Generated"
   ]
  },
  {
   "cell_type": "markdown",
   "metadata": {},
   "source": [
    "## Random Forest Regression"
   ]
  },
  {
   "cell_type": "code",
   "execution_count": 3,
   "metadata": {},
   "outputs": [
    {
     "name": "stdout",
     "output_type": "stream",
     "text": [
      "50\n",
      "100\n",
      "150\n",
      "200\n",
      "250\n",
      "300\n",
      "350\n",
      "400\n",
      "450\n",
      "500\n"
     ]
    }
   ],
   "source": [
    "X = [50,100,150,200,250,300,350,400,450,500]\n",
    "Kriging_minimax = np.zeros([len(X),2])\n",
    "Kriging_composite = np.zeros([len(X),2])\n",
    "for k in range(len(X)):\n",
    "    print (X[k])\n",
    "    train = pd.read_csv(sys.path[1][:-2]+str('Training_Data_Sets\\\\'+str(X[k])+'Samples.csv')).iloc[:,1:]\n",
    "    test = pd.read_csv(sys.path[1][:-2]+str('Test_Data_Sets\\\\750Samples.csv')).iloc[:,1:]\n",
    "    true_minimax = np.array(test.True_Minimax)\n",
    "    true_composite = np.array(test.True_Composite)\n",
    "    Hyper_Parameters = DOE_Hyper()\n",
    "    mean_abs_error_minimax = np.zeros(Hyper_Parameters.shape[0])\n",
    "    mean_abs_error_composite = np.zeros(Hyper_Parameters.shape[0])\n",
    "    for i in range(Hyper_Parameters.shape[0]):\n",
    "        temp = np.array(Hyper_Parameters.iloc[i,:])\n",
    "        model_minimax,pred_k_m = rf_minimax(train,test.iloc[:,:10],temp)\n",
    "        model_composite,pred_k_c = rf_composite(train,test.iloc[:,:10],temp)\n",
    "        mean_abs_error_minimax[i] = np.mean((abs(true_minimax-pred_k_m) / abs(true_minimax) ) * 100)\n",
    "        mean_abs_error_composite[i] = np.mean((abs( true_composite-pred_k_c) / abs(true_composite) ) * 100)\n",
    "    Hyper_Parameters ['Mean_Error_Minimax'] = pd.Series(mean_abs_error_minimax)\n",
    "    Hyper_Parameters ['Mean_Error_Composite'] = pd.Series(mean_abs_error_composite)\n",
    "    Kriging_minimax [k,:] = np.array(Hyper_Parameters.iloc[Hyper_Parameters.Mean_Error_Minimax.values.argmin(),:-2])\n",
    "    Kriging_composite [k,:] = np.array(Hyper_Parameters.iloc[Hyper_Parameters.Mean_Error_Composite.values.argmin(),:-2])"
   ]
  },
  {
   "cell_type": "code",
   "execution_count": 4,
   "metadata": {},
   "outputs": [
    {
     "name": "stdout",
     "output_type": "stream",
     "text": [
      "Best Configuration of Hyper Parameters for Robust Regularization\n"
     ]
    },
    {
     "data": {
      "text/plain": [
       "Max_Depth             13.193233\n",
       "N_Estimators          91.299099\n",
       "Mean_Error_Minimax     2.101587\n",
       "Name: 26, dtype: float64"
      ]
     },
     "execution_count": 4,
     "metadata": {},
     "output_type": "execute_result"
    }
   ],
   "source": [
    "print ('Best Configuration of Hyper Parameters for Robust Regularization')\n",
    "Hyper_Parameters.iloc[Hyper_Parameters.Mean_Error_Minimax.values.argmin(),:-1]"
   ]
  },
  {
   "cell_type": "code",
   "execution_count": 5,
   "metadata": {},
   "outputs": [
    {
     "name": "stdout",
     "output_type": "stream",
     "text": [
      "Best Configuration of Hyper Parameters for Robust Composition\n"
     ]
    },
    {
     "data": {
      "text/plain": [
       "Max_Depth               37.557966\n",
       "N_Estimators            77.571977\n",
       "Mean_Error_Composite     1.426992\n",
       "Name: 22, dtype: float64"
      ]
     },
     "execution_count": 5,
     "metadata": {},
     "output_type": "execute_result"
    }
   ],
   "source": [
    "print ('Best Configuration of Hyper Parameters for Robust Composition')\n",
    "Hyper_Parameters.iloc[Hyper_Parameters.Mean_Error_Composite.values.argmin(),[0,1,3]]"
   ]
  },
  {
   "cell_type": "code",
   "execution_count": 6,
   "metadata": {},
   "outputs": [],
   "source": [
    "Hyper_Parameters.to_csv('Result_Hyper_Params.csv')"
   ]
  },
  {
   "cell_type": "code",
   "execution_count": 7,
   "metadata": {},
   "outputs": [
    {
     "data": {
      "text/plain": [
       "array([[ 29.69893932, 100.        ],\n",
       "       [  8.56504336,  80.49438762],\n",
       "       [ 28.8902804 ,  63.65197546],\n",
       "       [ 47.74481803,  84.77656662],\n",
       "       [ 36.46854626,  97.92610235],\n",
       "       [ 38.54011526,  26.2453932 ],\n",
       "       [ 20.34493906,  98.29468776],\n",
       "       [ 44.0401464 ,  98.22548255],\n",
       "       [ 12.0570569 , 100.        ],\n",
       "       [ 13.1932333 ,  91.29909851]])"
      ]
     },
     "execution_count": 7,
     "metadata": {},
     "output_type": "execute_result"
    }
   ],
   "source": [
    "Kriging_minimax"
   ]
  },
  {
   "cell_type": "code",
   "execution_count": 8,
   "metadata": {},
   "outputs": [
    {
     "data": {
      "text/plain": [
       "array([[ 29.69893932, 100.        ],\n",
       "       [ 36.21916509,  48.17257983],\n",
       "       [ 41.71332909,  99.42374502],\n",
       "       [ 24.7565058 ,  94.18487902],\n",
       "       [ 18.3381423 ,  65.67895851],\n",
       "       [ 48.13912775,  61.51538399],\n",
       "       [ 41.74403351,  95.59003012],\n",
       "       [ 27.45050946,  87.57772678],\n",
       "       [ 26.00001721,  86.27326451],\n",
       "       [ 37.55796589,  77.57197732]])"
      ]
     },
     "execution_count": 8,
     "metadata": {},
     "output_type": "execute_result"
    }
   ],
   "source": [
    "Kriging_composite"
   ]
  }
 ],
 "metadata": {
  "kernelspec": {
   "display_name": "Python 3",
   "language": "python",
   "name": "python3"
  },
  "language_info": {
   "codemirror_mode": {
    "name": "ipython",
    "version": 3
   },
   "file_extension": ".py",
   "mimetype": "text/x-python",
   "name": "python",
   "nbconvert_exporter": "python",
   "pygments_lexer": "ipython3",
   "version": "3.7.0"
  }
 },
 "nbformat": 4,
 "nbformat_minor": 2
}
