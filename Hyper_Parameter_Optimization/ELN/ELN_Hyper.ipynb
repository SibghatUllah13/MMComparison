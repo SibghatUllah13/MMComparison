{
 "cells": [
  {
   "cell_type": "code",
   "execution_count": 153,
   "metadata": {},
   "outputs": [],
   "source": [
    "import sys\n",
    "sys.path.append(\"C:\\\\Users\\\\sefi\\\\Meta-Modelling\\\\Sample Size vs Accuracy\\\\Noise Level 3\\\\Rastrigin10D\\\\\")\n",
    "import Utils\n",
    "import pyDOE\n",
    "import pandas as pd\n",
    "import numpy as np\n",
    "import scipy.stats.distributions as dist\n",
    "from sklearn import preprocessing\n",
    "from sklearn.linear_model import ElasticNet\n",
    "from sklearn.linear_model import ElasticNetCV\n",
    "from sklearn.preprocessing import MinMaxScaler"
   ]
  },
  {
   "cell_type": "markdown",
   "metadata": {},
   "source": [
    "## Helper Functions"
   ]
  },
  {
   "cell_type": "code",
   "execution_count": 154,
   "metadata": {},
   "outputs": [],
   "source": [
    "''' Elastic Net Regression for Minimax Robustness'''\n",
    "def elastic_net_minimax(train_data,test_data,rat):\n",
    "    scaler =  MinMaxScaler().fit(np.r_[train_data.iloc[:,:65].values, test_data.values])\n",
    "    regr=ElasticNet(alpha= 0.009782831659031866 ,random_state=0 , l1_ratio=rat, fit_intercept =True, max_iter=3000,selection='random').fit(scaler.transform ( np.array(train_data.iloc[:,:65])) ,  np.array(train_data.iloc[:,66]))\n",
    "    pred = regr.predict(scaler.transform(test_data))\n",
    "    return regr,pred\n",
    "\n",
    "''' Elastic Net Regression for Composite Robustness '''\n",
    "def elastic_net_composite(train_data,test_data,rat):\n",
    "    scaler =  MinMaxScaler().fit(np.r_[train_data.iloc[:,:65].values, test_data.values])\n",
    "    regr=ElasticNet(alpha= 0.006493421766031815 ,random_state=0 , l1_ratio=rat, fit_intercept =True, max_iter=3000,selection='random').fit(scaler.transform ( np.array(train_data.iloc[:,:65])) ,  np.array(train_data.iloc[:,-1]))\n",
    "    pred = regr.predict(scaler.transform(test_data))\n",
    "    return regr,pred"
   ]
  },
  {
   "cell_type": "markdown",
   "metadata": {},
   "source": [
    "## Load Training and Test Data Set initially Generated"
   ]
  },
  {
   "cell_type": "code",
   "execution_count": 155,
   "metadata": {},
   "outputs": [],
   "source": [
    "train = pd.read_csv(sys.path[1][:-3]+str('Training_Data_Sets\\\\500Samples.csv')).iloc[:,1:]\n",
    "for i in range(1,11):\n",
    "    train ['X'+str(i)+'**2'] = train['X'+str(i)]**2\n",
    "for i in range(1,11):\n",
    "    for j in range(i+1,11):\n",
    "        train ['X'+str(i)+'X'+str(j)] = train['X'+str(i)] * train ['X'+str(j)]\n",
    "f_original = train['Y = F(X1,X2)']\n",
    "robust_original = train['Y = robust_regularization(X1,X2)']\n",
    "composite_original = train ['Y = composite(X1,X2)']\n",
    "del train['Y = F(X1,X2)']\n",
    "del train['Y = robust_regularization(X1,X2)']\n",
    "del train ['Y = composite(X1,X2)']\n",
    "train['Y = F(X1,X2)'] = f_original\n",
    "train['Y = robust_regularization(X1,X2)'] = robust_original\n",
    "train ['Y = composite(X1,X2)'] = composite_original\n",
    "test = pd.read_csv(sys.path[1][:-3]+str('Test_Data_Sets\\\\750Samples.csv')).iloc[:,1:]\n",
    "for i in range(1,11):\n",
    "    test ['X'+str(i)+'**2'] = test['X'+str(i)]**2\n",
    "for i in range(1,11):\n",
    "    for j in range(i+1,11):\n",
    "        test ['X'+str(i)+'X'+str(j)] = test['X'+str(i)] * test ['X'+str(j)]\n",
    "true_minimax = np.array(test.True_Minimax)\n",
    "true_composite = np.array(test.True_Composite)\n",
    "del test['True_Minimax']\n",
    "del test ['True_Composite']\n",
    "test['True_Minimax'] = pd.Series(true_minimax)\n",
    "test ['True_Composite'] = pd.Series(true_composite)"
   ]
  },
  {
   "cell_type": "code",
   "execution_count": null,
   "metadata": {},
   "outputs": [],
   "source": []
  },
  {
   "cell_type": "markdown",
   "metadata": {},
   "source": [
    "## ELN RR "
   ]
  },
  {
   "cell_type": "code",
   "execution_count": 156,
   "metadata": {},
   "outputs": [
    {
     "name": "stdout",
     "output_type": "stream",
     "text": [
      "0.009782831659031866\n"
     ]
    }
   ],
   "source": [
    "scaler =  MinMaxScaler().fit(np.r_[train.iloc[:,:65].values, test.iloc[:,:65].values])\n",
    "regr = ElasticNetCV(cv=5,random_state=0)\n",
    "regr.fit(scaler.transform(np.array(train.iloc[:,:65])) , np.array(train.iloc[:,66]))\n",
    "print (regr.alpha_)"
   ]
  },
  {
   "cell_type": "markdown",
   "metadata": {},
   "source": [
    "## ELN RC\n"
   ]
  },
  {
   "cell_type": "code",
   "execution_count": 157,
   "metadata": {},
   "outputs": [
    {
     "name": "stdout",
     "output_type": "stream",
     "text": [
      "0.006493421766031815\n"
     ]
    }
   ],
   "source": [
    "scaler =  MinMaxScaler().fit(np.r_[train.iloc[:,:65].values, test.iloc[:,:65].values])\n",
    "regr = ElasticNetCV(cv=5,random_state=0)\n",
    "regr.fit(scaler.transform(np.array(train.iloc[:,:65])) , np.array(train.iloc[:,-1]))\n",
    "print (regr.alpha_)"
   ]
  },
  {
   "cell_type": "code",
   "execution_count": null,
   "metadata": {},
   "outputs": [],
   "source": []
  },
  {
   "cell_type": "markdown",
   "metadata": {},
   "source": [
    "## ELN"
   ]
  },
  {
   "cell_type": "code",
   "execution_count": 158,
   "metadata": {},
   "outputs": [
    {
     "name": "stderr",
     "output_type": "stream",
     "text": [
      "C:\\Users\\sefi\\AppData\\Local\\Continuum\\anaconda3\\lib\\site-packages\\sklearn\\linear_model\\coordinate_descent.py:491: ConvergenceWarning: Objective did not converge. You might want to increase the number of iterations. Fitting data with very small alpha may cause precision problems.\n",
      "  ConvergenceWarning)\n"
     ]
    }
   ],
   "source": [
    "Hyper_Parameters = np.linspace(0,1,1000)\n",
    "mean_abs_error_minimax = np.zeros(Hyper_Parameters.shape[0])\n",
    "mean_abs_error_composite = np.zeros(Hyper_Parameters.shape[0])\n",
    "for i in range(Hyper_Parameters.shape[0]):\n",
    "    model_minimax,pred_k_m = elastic_net_minimax(train,test.iloc[:,:65],Hyper_Parameters[i])\n",
    "    model_composite,pred_k_c = elastic_net_composite(train,test.iloc[:,:65],Hyper_Parameters[i])\n",
    "    mean_abs_error_minimax[i] = np.mean((abs(true_minimax-pred_k_m) / abs(true_minimax) ) * 100)\n",
    "    mean_abs_error_composite[i] = np.mean((abs( true_composite-pred_k_c) / abs(true_composite) ) * 100)"
   ]
  },
  {
   "cell_type": "code",
   "execution_count": 159,
   "metadata": {},
   "outputs": [
    {
     "name": "stdout",
     "output_type": "stream",
     "text": [
      "Best Configuration of Hyper Parameters for Robust Regularization\n"
     ]
    },
    {
     "data": {
      "text/plain": [
       "(0.22322322322322322, 1.7528694847747808)"
      ]
     },
     "execution_count": 159,
     "metadata": {},
     "output_type": "execute_result"
    }
   ],
   "source": [
    "print ('Best Configuration of Hyper Parameters for Robust Regularization')\n",
    "Hyper_Parameters[np.argmin(mean_abs_error_minimax)] , np.min(mean_abs_error_minimax)"
   ]
  },
  {
   "cell_type": "code",
   "execution_count": 160,
   "metadata": {},
   "outputs": [
    {
     "name": "stdout",
     "output_type": "stream",
     "text": [
      "Best Configuration of Hyper Parameters for Robust Composition\n"
     ]
    },
    {
     "data": {
      "text/plain": [
       "(1.0, 0.7148901226097815)"
      ]
     },
     "execution_count": 160,
     "metadata": {},
     "output_type": "execute_result"
    }
   ],
   "source": [
    "print ('Best Configuration of Hyper Parameters for Robust Composition')\n",
    "Hyper_Parameters[np.argmin(mean_abs_error_composite)] , np.min(mean_abs_error_composite)"
   ]
  },
  {
   "cell_type": "code",
   "execution_count": null,
   "metadata": {},
   "outputs": [],
   "source": []
  },
  {
   "cell_type": "code",
   "execution_count": null,
   "metadata": {},
   "outputs": [],
   "source": []
  },
  {
   "cell_type": "code",
   "execution_count": null,
   "metadata": {},
   "outputs": [],
   "source": []
  },
  {
   "cell_type": "code",
   "execution_count": null,
   "metadata": {},
   "outputs": [],
   "source": []
  },
  {
   "cell_type": "code",
   "execution_count": null,
   "metadata": {},
   "outputs": [],
   "source": []
  }
 ],
 "metadata": {
  "kernelspec": {
   "display_name": "Python 3",
   "language": "python",
   "name": "python3"
  },
  "language_info": {
   "codemirror_mode": {
    "name": "ipython",
    "version": 3
   },
   "file_extension": ".py",
   "mimetype": "text/x-python",
   "name": "python",
   "nbconvert_exporter": "python",
   "pygments_lexer": "ipython3",
   "version": "3.7.0"
  }
 },
 "nbformat": 4,
 "nbformat_minor": 2
}
